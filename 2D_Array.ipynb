{
  "nbformat": 4,
  "nbformat_minor": 0,
  "metadata": {
    "colab": {
      "provenance": []
    },
    "kernelspec": {
      "name": "python3",
      "display_name": "Python 3"
    },
    "language_info": {
      "name": "python"
    }
  },
  "cells": [
    {
      "cell_type": "code",
      "execution_count": null,
      "metadata": {
        "id": "YTxmRl30tleK"
      },
      "outputs": [],
      "source": [
        "class TwoDimClass:\n",
        "  def __init__(self,M,N):\n",
        "    self.M = M   # number of rows\n",
        "    self.N = N   #number of columns\n",
        "    self.items = [None]* (M * N) #single list created\n",
        "\n",
        "  def _index(self,m,n):\n",
        "   return m * self.N + n\n",
        "  #calculate list index based on row-major order\n",
        "\n",
        "  def getByIndex(self,m,n):\n",
        "   if m >= self.M or n >= self.N:\n",
        "    raise IndexError(\"row/column out of range\")\n",
        "   return self.items[self._index(m,n)]  # get items according to index\n",
        "\n",
        "  def setByIndex(self,m,n,item):\n",
        "  #set item to specified row and column\n",
        "    if m >= self.M or n >= self.N:\n",
        "     raise IndexError(\"row/column out of range\")\n",
        "    self.items[self._index(m, n)] = item\n",
        "\n",
        "\n",
        "  def getByRow(self,m):\n",
        "   if m >= self.M:\n",
        "    raise IndexError(\"row out of range\")\n",
        "   return [self.getByIndex(m,n) for n in range(self.N)]\n",
        "#return all items of specified row\n",
        "\n",
        "  def getByColumn(self,n):\n",
        "   if n >= self.N:\n",
        "    raise IndexError(\"column out of range\")\n",
        "   return [self.getByIndex(m,n) for m in range(self.M)]\n",
        "  #return all items of specified column"
      ]
    },
    {
      "cell_type": "code",
      "source": [
        "matrix = TwoDimClass(2,3)"
      ],
      "metadata": {
        "id": "lvS5vbjp0Q8t"
      },
      "execution_count": null,
      "outputs": []
    },
    {
      "cell_type": "code",
      "source": [
        "# Setting values for the 2x3 matrix\n",
        "matrix.setByIndex(0, 0, 10) # (row, column, item)\n",
        "matrix.setByIndex(0, 1, 20)\n",
        "matrix.setByIndex(0, 2, 30)\n",
        "matrix.setByIndex(1, 0, 40)\n",
        "matrix.setByIndex(1, 1, 50)\n",
        "matrix.setByIndex(1, 2, 60)"
      ],
      "metadata": {
        "id": "x3NfrHe91Deb"
      },
      "execution_count": null,
      "outputs": []
    },
    {
      "cell_type": "code",
      "source": [
        "value_of_index = matrix.getByIndex(1,1)\n",
        "value_of_index"
      ],
      "metadata": {
        "colab": {
          "base_uri": "https://localhost:8080/"
        },
        "id": "4tKJYPjA53qQ",
        "outputId": "340dc36c-2a7a-4cdd-ae19-b4949195611c"
      },
      "execution_count": null,
      "outputs": [
        {
          "output_type": "execute_result",
          "data": {
            "text/plain": [
              "50"
            ]
          },
          "metadata": {},
          "execution_count": 41
        }
      ]
    },
    {
      "cell_type": "code",
      "source": [
        "row_of_matrix = matrix.getByRow(1)\n",
        "row_of_matrix"
      ],
      "metadata": {
        "colab": {
          "base_uri": "https://localhost:8080/"
        },
        "id": "Ab5E3fkH6Hey",
        "outputId": "6fba521d-148b-43c3-e13c-75439ed6f12d"
      },
      "execution_count": null,
      "outputs": [
        {
          "output_type": "execute_result",
          "data": {
            "text/plain": [
              "[40, 50, 60]"
            ]
          },
          "metadata": {},
          "execution_count": 42
        }
      ]
    },
    {
      "cell_type": "code",
      "source": [
        "column_of_matrix = matrix.getByColumn(2)\n",
        "column_of_matrix"
      ],
      "metadata": {
        "colab": {
          "base_uri": "https://localhost:8080/"
        },
        "id": "mVv1BlJH6aWp",
        "outputId": "6d4cdf8f-1b33-4a9b-f09e-2f5a4842e543"
      },
      "execution_count": null,
      "outputs": [
        {
          "output_type": "execute_result",
          "data": {
            "text/plain": [
              "[30, 60]"
            ]
          },
          "metadata": {},
          "execution_count": 45
        }
      ]
    }
  ]
}